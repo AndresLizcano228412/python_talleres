{
 "cells": [
  {
   "cell_type": "markdown",
   "metadata": {},
   "source": [
    "# 2) Tipos de datos y variables\n",
    "\n",
    "## ¿Qué son?\n",
    "Los **tipos** definen la clase de datos (entero, flotante, texto, booleano). Las **variables** son nombres que apuntan a valores en memoria.\n",
    "\n",
    "## ¿Para qué se usan?\n",
    "Para **representar y transformar información**. Python es *tipado dinámico*: el tipo se asocia al valor, no al nombre.\n",
    "\n",
    "## Tipos básicos\n",
    "- `int`, `float`, `str`, `bool`\n",
    "- Mutabilidad: `str` es inmutable, `list` es mutable.\n",
    "- Conversión de tipos: `int(\"42\")`, `float(\"3.14\")`, `str(99)`.\n"
   ]
  },
  {
   "cell_type": "code",
   "execution_count": 4,
   "metadata": {},
   "outputs": [
    {
     "name": "stdout",
     "output_type": "stream",
     "text": [
      "<class 'int'> <class 'float'> <class 'str'> <class 'bool'>\n",
      "Ada mide 1.72 m y tiene 28 años. ¿Estudia? True\n"
     ]
    }
   ],
   "source": [
    "edad = 28\n",
    "altura = 1.72\n",
    "nombre = \"Ada\"\n",
    "es_estudiante = True\n",
    "\n",
    "print(type(edad), type(altura), type(nombre), type(es_estudiante))\n",
    "print(f\"{nombre} mide {altura} m y tiene {edad} años. ¿Estudia? {es_estudiante}\")\n"
   ]
  },
  {
   "cell_type": "markdown",
   "metadata": {},
   "source": [
    "### Ejercicios\n",
    "- E1: Declara tres variables de distintos tipos y muéstralas con su tipo.\n",
    "- E2: Convierte `\"99\"` a entero y súmalo con 1.\n",
    "- E3: Pide por `input()` nombre y edad, y muestra un mensaje formateado.\n",
    "\n",
    "### Reto extra\n",
    "Calcula el **IMC**: pide peso (kg) y altura (m), imprime el resultado con dos decimales.\n"
   ]
  },
  {
   "cell_type": "code",
   "execution_count": null,
   "id": "ec61dd81",
   "metadata": {},
   "outputs": [
    {
     "name": "stdout",
     "output_type": "stream",
     "text": [
      "<class 'str'> <class 'int'> <class 'str'>\n",
      "Andres tiene 28 años y vive en Bogota.\n"
     ]
    }
   ],
   "source": [
    "nombre = \"Andres\"\n",
    "edad = 17\n",
    "ciudad = \"Bogota\"\n",
    "print(type(nombre), type(edad), type(ciudad))\n",
    "print(f\"{nombre} tiene {edad} años y vive en {ciudad}.\")"
   ]
  },
  {
   "cell_type": "code",
   "execution_count": 7,
   "id": "a9913054",
   "metadata": {},
   "outputs": [
    {
     "name": "stdout",
     "output_type": "stream",
     "text": [
      "100\n"
     ]
    }
   ],
   "source": [
    "numero = \"99\"\n",
    "numero_entero = int(numero)\n",
    "resultado= numero_entero + 1\n",
    "print(resultado)"
   ]
  },
  {
   "cell_type": "code",
   "execution_count": 2,
   "metadata": {},
   "outputs": [
    {
     "name": "stdout",
     "output_type": "stream",
     "text": [
      "Hola andres, tienes 18 años.\n"
     ]
    }
   ],
   "source": [
    "nombre = input(\"¿Cual es tu nombre? \")\n",
    "edad = input(\"¿Cual es tu edad? \")\n",
    "print(f\"Hola {nombre}, tienes {edad} años.\")"
   ]
  },
  {
   "cell_type": "code",
   "execution_count": 1,
   "id": "df06aef1",
   "metadata": {},
   "outputs": [
    {
     "name": "stdout",
     "output_type": "stream",
     "text": [
      "tu imc es de: 19.75\n"
     ]
    }
   ],
   "source": [
    "peso = 64\n",
    "altura = 1.80\n",
    "imc = peso / (altura ** 2)\n",
    "print(f\"tu imc es de: {imc:.2f}\")"
   ]
  },
  {
   "cell_type": "code",
   "execution_count": null,
   "metadata": {},
   "outputs": [],
   "source": [
    "# Plantilla para IMC\n",
    "peso = 70.0\n",
    "altura = 1.75\n",
    "imc = peso / (altura ** 2)\n",
    "print(f\"IMC: {imc:.2f}\")\n"
   ]
  }
 ],
 "metadata": {
  "kernelspec": {
   "display_name": "Python 3",
   "language": "python",
   "name": "python3"
  },
  "language_info": {
   "codemirror_mode": {
    "name": "ipython",
    "version": 3
   },
   "file_extension": ".py",
   "mimetype": "text/x-python",
   "name": "python",
   "nbconvert_exporter": "python",
   "pygments_lexer": "ipython3",
   "version": "3.13.7"
  }
 },
 "nbformat": 4,
 "nbformat_minor": 5
}
