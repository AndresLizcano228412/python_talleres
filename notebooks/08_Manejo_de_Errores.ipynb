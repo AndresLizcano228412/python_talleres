{
 "cells": [
  {
   "cell_type": "markdown",
   "metadata": {},
   "source": [
    "# 8) Manejo de errores (excepciones)\n",
    "\n",
    "## ¿Qué es?\n",
    "Un **mecanismo para responder a fallos** en tiempo de ejecución sin romper el programa.\n",
    "\n",
    "## ¿Para qué se usa?\n",
    "Para **procesar entradas inválidas, errores de cálculo o recursos faltantes**.\n",
    "\n",
    "## Bloques útiles\n",
    "- `try`/`except` para capturar excepciones\n",
    "- `else` para código que corre si no hubo excepción\n",
    "- `finally` para limpieza\n",
    "- `raise` para lanzar errores propios\n"
   ]
  },
  {
   "cell_type": "code",
   "execution_count": 1,
   "metadata": {},
   "outputs": [
    {
     "name": "stdout",
     "output_type": "stream",
     "text": [
      "Doble: 84\n",
      "No puedes dividir por cero.\n"
     ]
    }
   ],
   "source": [
    "try:\n",
    "    n = int(\"42\")\n",
    "    print(\"Doble:\", n*2)\n",
    "except ValueError:\n",
    "    print(\"Entrada no válida.\")\n",
    "\n",
    "try:\n",
    "    x = 10 / 0\n",
    "except ZeroDivisionError:\n",
    "    print(\"No puedes dividir por cero.\")\n"
   ]
  },
  {
   "cell_type": "markdown",
   "metadata": {},
   "source": [
    "### Ejercicios\n",
    "- E1: Conversor robusto `str -> int` que reintente si falla.\n",
    "- E2: Calculadora con manejo de `ZeroDivisionError` y `ValueError`.\n",
    "- E3: Lector de opción de menú que solo acepta `1..4`.\n",
    "\n",
    "### Reto extra\n",
    "`leer_float(msg, intentos=3)` que reintente y lance excepción personalizada si se agotan intentos.\n"
   ]
  },
  {
   "cell_type": "code",
   "execution_count": null,
   "id": "f6c8c359",
   "metadata": {},
   "outputs": [
    {
     "name": "stdout",
     "output_type": "stream",
     "text": [
      "Entrada no válida. Por favor, ingresa un número.\n",
      "Entrada no válida. Por favor, ingresa un número.\n",
      "Número ingresado: 5\n"
     ]
    }
   ],
   "source": [
    "while True:\n",
    "    try:\n",
    "        numero = int(input(\"Ingresa un número: \"))\n",
    "        print(\"Número ingresado:\", numero)\n",
    "        break\n",
    "    except ValueError:\n",
    "        print(\"Entrada no válida. Por favor, ingresa un número.\")"
   ]
  },
  {
   "cell_type": "code",
   "execution_count": 5,
   "metadata": {},
   "outputs": [
    {
     "name": "stdout",
     "output_type": "stream",
     "text": [
      "suma: 11.0\n",
      "resta: -1.0\n",
      "multiplicación: 30.0\n",
      "división: 0.8333333333333334\n"
     ]
    }
   ],
   "source": [
    "try:\n",
    "    a = float(input(\"Ingresa un número: \"))\n",
    "    b = float(input(\"Ingresa otro número: \"))\n",
    "    print (f\"suma: {a + b}\")\n",
    "    print (f\"resta: {a - b}\")\n",
    "    print (f\"multiplicación: {a * b}\")\n",
    "    print (f\"división: {a / b}\")\n",
    "except ValueError:\n",
    "    print(\"ValueError=Por favor, ingresa números.\")\n",
    "except ZeroDivisionError:\n",
    "    print(\"ZeroDivisionError=No puedes dividir por cero.\")"
   ]
  },
  {
   "cell_type": "code",
   "execution_count": 9,
   "id": "dcab552b",
   "metadata": {},
   "outputs": [
    {
     "name": "stdout",
     "output_type": "stream",
     "text": [
      "Error: invalid literal for int() with base 10: 'hi'\n"
     ]
    }
   ],
   "source": [
    "try:\n",
    "    opciones=int(input(\"Elige una opción (1-4): \"))\n",
    "    if opciones not in [1, 2, 3, 4]:\n",
    "        raise ValueError(\"la opcion deve estar entere 1-4.\")\n",
    "    print(f\"Opción elegida: {opciones}\")\n",
    "except ValueError as e:\n",
    "    print(\"Error:\", e)"
   ]
  },
  {
   "cell_type": "code",
   "execution_count": 13,
   "id": "7ee59f6a",
   "metadata": {},
   "outputs": [],
   "source": [
    "class IntentosAgotadosError(Exception):\n",
    "    pass\n",
    "\n",
    "def leer_float(msg, intentos=3):\n",
    "    for i in range(intentos):\n",
    "        try:\n",
    "            return float(input(msg))\n",
    "        except ValueError:\n",
    "            print(\"No es número. Intenta de nuevo.\")\n",
    "    raise IntentosAgotadosError(\"Se agotaron los intentos.\")"
   ]
  },
  {
   "cell_type": "code",
   "execution_count": 15,
   "metadata": {},
   "outputs": [
    {
     "name": "stdout",
     "output_type": "stream",
     "text": [
      "No es número. Intenta de nuevo.\n",
      "No es número. Intenta de nuevo.\n",
      "Número ingresado: 5.0\n"
     ]
    }
   ],
   "source": [
    "# Pista para el reto\n",
    "class IntentosAgotadosError(Exception):\n",
    "    pass\n",
    "\n",
    "def leer_float(msg, intentos=3):\n",
    "    for i in range(intentos):\n",
    "        try:\n",
    "            return float(input(msg))\n",
    "        except ValueError:\n",
    "            print(\"No es número. Intenta de nuevo.\")\n",
    "    raise IntentosAgotadosError(\"Se agotaron los intentos.\")\n",
    "try:\n",
    "    numero = leer_float(\"Ingresa un número: \")\n",
    "    print(\"Número ingresado:\", numero)\n",
    "except IntentosAgotadosError as e:\n",
    "    print(e)\n"
   ]
  }
 ],
 "metadata": {
  "kernelspec": {
   "display_name": "Python 3",
   "language": "python",
   "name": "python3"
  },
  "language_info": {
   "codemirror_mode": {
    "name": "ipython",
    "version": 3
   },
   "file_extension": ".py",
   "mimetype": "text/x-python",
   "name": "python",
   "nbconvert_exporter": "python",
   "pygments_lexer": "ipython3",
   "version": "3.13.7"
  }
 },
 "nbformat": 4,
 "nbformat_minor": 5
}
