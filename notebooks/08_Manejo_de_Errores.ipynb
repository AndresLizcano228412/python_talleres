{
 "cells": [
  {
   "cell_type": "markdown",
   "metadata": {},
   "source": [
    "# 8) Manejo de errores (excepciones)\n",
    "\n",
    "## ¿Qué es?\n",
    "Un **mecanismo para responder a fallos** en tiempo de ejecución sin romper el programa.\n",
    "\n",
    "## ¿Para qué se usa?\n",
    "Para **procesar entradas inválidas, errores de cálculo o recursos faltantes**.\n",
    "\n",
    "## Bloques útiles\n",
    "- `try`/`except` para capturar excepciones\n",
    "- `else` para código que corre si no hubo excepción\n",
    "- `finally` para limpieza\n",
    "- `raise` para lanzar errores propios\n"
   ]
  },
  {
   "cell_type": "code",
   "execution_count": 1,
   "metadata": {},
   "outputs": [
    {
     "name": "stdout",
     "output_type": "stream",
     "text": [
      "Doble: 84\n",
      "No puedes dividir por cero.\n"
     ]
    }
   ],
   "source": [
    "try:\n",
    "    n = int(\"42\")\n",
    "    print(\"Doble:\", n*2)\n",
    "except ValueError:\n",
    "    print(\"Entrada no válida.\")\n",
    "\n",
    "try:\n",
    "    x = 10 / 0\n",
    "except ZeroDivisionError:\n",
    "    print(\"No puedes dividir por cero.\")\n"
   ]
  },
  {
   "cell_type": "markdown",
   "metadata": {},
   "source": [
    "### Ejercicios\n",
    "- E1: Conversor robusto `str -> int` que reintente si falla.\n",
    "- E2: Calculadora con manejo de `ZeroDivisionError` y `ValueError`.\n",
    "- E3: Lector de opción de menú que solo acepta `1..4`.\n",
    "\n",
    "### Reto extra\n",
    "`leer_float(msg, intentos=3)` que reintente y lance excepción personalizada si se agotan intentos.\n"
   ]
  },
  {
   "cell_type": "code",
   "execution_count": null,
   "metadata": {},
   "outputs": [],
   "source": [
    "# Pista para el reto\n",
    "class IntentosAgotadosError(Exception):\n",
    "    pass\n",
    "\n",
    "def leer_float(msg, intentos=3):\n",
    "    for i in range(intentos):\n",
    "        try:\n",
    "            return float(input(msg))\n",
    "        except ValueError:\n",
    "            print(\"No es número. Intenta de nuevo.\")\n",
    "    raise IntentosAgotadosError(\"Se agotaron los intentos.\")\n"
   ]
  }
 ],
 "metadata": {
  "kernelspec": {
   "display_name": "Python 3",
   "language": "python",
   "name": "python3"
  },
  "language_info": {
   "codemirror_mode": {
    "name": "ipython",
    "version": 3
   },
   "file_extension": ".py",
   "mimetype": "text/x-python",
   "name": "python",
   "nbconvert_exporter": "python",
   "pygments_lexer": "ipython3",
   "version": "3.13.7"
  }
 },
 "nbformat": 4,
 "nbformat_minor": 5
}
