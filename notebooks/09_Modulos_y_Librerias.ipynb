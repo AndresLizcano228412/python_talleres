{
 "cells": [
  {
   "cell_type": "markdown",
   "metadata": {},
   "source": [
    "# 9) Módulos y librerías estándar\n",
    "\n",
    "## ¿Qué son?\n",
    "Archivos y paquetes con **funciones reutilizables**. La **librería estándar** ofrece utilidades listas para usar.\n",
    "\n",
    "## ¿Para qué se usan?\n",
    "Para **no reinventar la rueda**: matemáticas, fechas, aleatoriedad, sistemas de archivos, etc.\n",
    "\n",
    "## Importar\n",
    "- `import modulo`\n",
    "- `from modulo import funcion`\n",
    "- Alias: `import modulo as m`\n"
   ]
  },
  {
   "cell_type": "code",
   "execution_count": 1,
   "metadata": {},
   "outputs": [
    {
     "name": "stdout",
     "output_type": "stream",
     "text": [
      "π ~ 3.141592653589793 | sqrt(49) = 7.0\n",
      "Ahora: 2025-09-07 16:50\n",
      "Aleatorio 1..10: 8\n"
     ]
    }
   ],
   "source": [
    "import math\n",
    "from datetime import datetime\n",
    "import random as rnd\n",
    "\n",
    "print(\"π ~\", math.pi, \"| sqrt(49) =\", math.sqrt(49))\n",
    "print(\"Ahora:\", datetime.now().strftime(\"%Y-%m-%d %H:%M\"))\n",
    "print(\"Aleatorio 1..10:\", rnd.randint(1,10))\n"
   ]
  },
  {
   "cell_type": "markdown",
   "metadata": {},
   "source": [
    "### Ejercicios\n",
    "- E1: Simula 100 lanzamientos de dado y cuenta frecuencias (dict).\n",
    "- E2: Calcula hipotenusa con `math.hypot(a,b)`.\n",
    "- E3: ¿Cuántos días faltan para fin de año?\n",
    "\n",
    "### Reto extra\n",
    "Juego **Piedra, Papel o Tijera** contra la máquina (mejor de 3).\n"
   ]
  }
 ],
 "metadata": {
  "kernelspec": {
   "display_name": "Python 3",
   "language": "python",
   "name": "python3"
  },
  "language_info": {
   "codemirror_mode": {
    "name": "ipython",
    "version": 3
   },
   "file_extension": ".py",
   "mimetype": "text/x-python",
   "name": "python",
   "nbconvert_exporter": "python",
   "pygments_lexer": "ipython3",
   "version": "3.13.7"
  }
 },
 "nbformat": 4,
 "nbformat_minor": 5
}
