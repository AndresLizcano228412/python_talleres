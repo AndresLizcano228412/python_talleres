{
 "cells": [
  {
   "cell_type": "markdown",
   "metadata": {},
   "source": [
    "# 9) Módulos y librerías estándar\n",
    "\n",
    "## ¿Qué son?\n",
    "Archivos y paquetes con **funciones reutilizables**. La **librería estándar** ofrece utilidades listas para usar.\n",
    "\n",
    "## ¿Para qué se usan?\n",
    "Para **no reinventar la rueda**: matemáticas, fechas, aleatoriedad, sistemas de archivos, etc.\n",
    "\n",
    "## Importar\n",
    "- `import modulo`\n",
    "- `from modulo import funcion`\n",
    "- Alias: `import modulo as m`\n"
   ]
  },
  {
   "cell_type": "code",
   "execution_count": 1,
   "metadata": {},
   "outputs": [
    {
     "name": "stdout",
     "output_type": "stream",
     "text": [
      "π ~ 3.141592653589793 | sqrt(49) = 7.0\n",
      "Ahora: 2025-09-08 19:14\n",
      "Aleatorio 1..10: 7\n"
     ]
    }
   ],
   "source": [
    "import math\n",
    "from datetime import datetime\n",
    "import random as rnd\n",
    "\n",
    "print(\"π ~\", math.pi, \"| sqrt(49) =\", math.sqrt(49))\n",
    "print(\"Ahora:\", datetime.now().strftime(\"%Y-%m-%d %H:%M\"))\n",
    "print(\"Aleatorio 1..10:\", rnd.randint(1,10))\n"
   ]
  },
  {
   "cell_type": "markdown",
   "metadata": {},
   "source": [
    "### Ejercicios\n",
    "- E1: Simula 100 lanzamientos de dado y cuenta frecuencias (dict).\n",
    "- E2: Calcula hipotenusa con `math.hypot(a,b)`.\n",
    "- E3: ¿Cuántos días faltan para fin de año?\n",
    "\n",
    "### Reto extra\n",
    "Juego **Piedra, Papel o Tijera** contra la máquina (mejor de 3).\n"
   ]
  },
  {
   "cell_type": "code",
   "execution_count": 8,
   "id": "44495d17",
   "metadata": {},
   "outputs": [
    {
     "name": "stdout",
     "output_type": "stream",
     "text": [
      "resultados: {1: 21, 2: 18, 3: 13, 4: 18, 5: 15, 6: 16}\n",
      "1: 21\n",
      "2: 18\n",
      "3: 13\n",
      "4: 18\n",
      "5: 15\n",
      "6: 16\n"
     ]
    }
   ],
   "source": [
    "import random as rnd\n",
    "frecuencias = {1: 0, 2: 0, 3: 0, 4: 0, 5: 0, 6: 0}\n",
    "for _ in range(101):\n",
    "    dado = rnd.randint(1, 6)\n",
    "    frecuencias[dado] += 1\n",
    "print(\"resultados:\", frecuencias)\n",
    "for numero, frecuencia in frecuencias.items():\n",
    "    print(f\"{numero}: {frecuencia}\")"
   ]
  },
  {
   "cell_type": "code",
   "execution_count": 16,
   "id": "abbfba8f",
   "metadata": {},
   "outputs": [
    {
     "name": "stdout",
     "output_type": "stream",
     "text": [
      "La hipotenusa es: 5.0\n"
     ]
    }
   ],
   "source": [
    "a = float(input(\"Ingresa el cateto a: \"))\n",
    "b = float(input(\"Ingresa el cateto b: \"))\n",
    "hipotenusa = (a**2 + b**2)**0.5\n",
    "print(\"La hipotenusa es:\", hipotenusa)"
   ]
  },
  {
   "cell_type": "code",
   "execution_count": 14,
   "id": "93f8f7ea",
   "metadata": {},
   "outputs": [
    {
     "name": "stdout",
     "output_type": "stream",
     "text": [
      "La hipotenusa es: 5.0\n"
     ]
    }
   ],
   "source": [
    "import math\n",
    "a = float(input(\"Ingresa el cateto a: \"))\n",
    "b = float(input(\"Ingresa el cateto b: \"))\n",
    "hipotenusa = math.hypot(a, b)\n",
    "print(\"La hipotenusa es:\", hipotenusa)"
   ]
  },
  {
   "cell_type": "code",
   "execution_count": null,
   "metadata": {},
   "outputs": [
    {
     "name": "stdout",
     "output_type": "stream",
     "text": [
      "hoy es 2025-09-08 19:32:05.620315 Faltan:113 días para fin de año.\n"
     ]
    }
   ],
   "source": [
    "from datetime import datetime\n",
    "hoy = datetime.now()\n",
    "fin_de_ano = datetime(hoy.year, 12, 31)\n",
    "faltan= (fin_de_ano - hoy).days\n",
    "print(f\"Faltan:{faltan} días para fin de año.\")"
   ]
  },
  {
   "cell_type": "code",
   "execution_count": null,
   "id": "1c84fb72",
   "metadata": {},
   "outputs": [
    {
     "name": "stdout",
     "output_type": "stream",
     "text": [
      "Computadora eligió: papel\n",
      "Perdiste esta ronda\n",
      "Computadora eligió: papel\n",
      "Ganaste esta ronda\n",
      "Computadora eligió: papel\n",
      "Ganaste esta ronda\n"
     ]
    }
   ],
   "source": [
    "import random as rnd\n",
    "opciones=[\"piedra\", \"papel\", \"tijeras\"]\n",
    "usuario_puntos=0\n",
    "computadora_puntos=0\n",
    "for ronda in range(1, 4):\n",
    "    usuario = input(\"Elige piedra, papel o tijeras: \").lower()\n",
    "    computadora = rnd.choice(opciones)\n",
    "    print(f\"Computadora eligió: {computadora}\")\n",
    "    if usuario == computadora:\n",
    "        print(\"Empate\")\n",
    "    elif (usuario == \"piedra\" and computadora == \"tijeras\") or \\\n",
    "         (usuario == \"papel\" and computadora == \"piedra\") or \\\n",
    "         (usuario == \"tijeras\" and computadora == \"papel\"):\n",
    "        \n",
    "        print(\"Ganaste esta ronda\")\n",
    "        usuario_puntos += 1\n",
    "    else:\n",
    "        print(\"Perdiste esta ronda\")\n",
    "        computadora_puntos += 1"
   ]
  }
 ],
 "metadata": {
  "kernelspec": {
   "display_name": "Python 3",
   "language": "python",
   "name": "python3"
  },
  "language_info": {
   "codemirror_mode": {
    "name": "ipython",
    "version": 3
   },
   "file_extension": ".py",
   "mimetype": "text/x-python",
   "name": "python",
   "nbconvert_exporter": "python",
   "pygments_lexer": "ipython3",
   "version": "3.13.7"
  }
 },
 "nbformat": 4,
 "nbformat_minor": 5
}
