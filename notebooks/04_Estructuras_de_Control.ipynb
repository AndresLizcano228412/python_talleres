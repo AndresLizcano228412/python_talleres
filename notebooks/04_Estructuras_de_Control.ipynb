{
 "cells": [
  {
   "cell_type": "markdown",
   "metadata": {},
   "source": [
    "# 4) Estructuras de control: `if`, `for`, `while`\n",
    "\n",
    "## ¿Qué son?\n",
    "Mecanismos para **tomar decisiones** (`if`) y **repetir acciones** (`for`, `while`).\n",
    "\n",
    "## ¿Para qué se usan?\n",
    "Para **controlar el flujo** de un programa según condiciones y colecciones.\n",
    "\n",
    "## Ideas clave\n",
    "- La **indentación** define bloques.\n",
    "- `for` itera sobre secuencias; `range(n)` genera 0..n-1.\n",
    "- `while` repite mientras la condición sea verdadera.\n",
    "- `break`/`continue` controlan el bucle.\n"
   ]
  },
  {
   "cell_type": "code",
   "execution_count": null,
   "metadata": {},
   "outputs": [],
   "source": [
    "# Par o impar\n",
    "n = 7\n",
    "if n % 2 == 0:\n",
    "    print(\"Par\")\n",
    "else:\n",
    "    print(\"Impar\")\n",
    "\n",
    "# Suma 1..10\n",
    "total = 0\n",
    "for i in range(1, 11):\n",
    "    total += i\n",
    "print(\"Suma 1..10:\", total)\n",
    "\n",
    "# Cuenta regresiva con while\n",
    "c = 5\n",
    "while c > 0:\n",
    "    print(c)\n",
    "    c -= 1\n"
   ]
  },
  {
   "cell_type": "markdown",
   "metadata": {},
   "source": [
    "### Ejercicios\n",
    "- E1: Clasifica una nota (0–100) en A/B/C/D/F.\n",
    "- E2: Imprime la tabla de multiplicar de un número (1–10).\n",
    "- E3: Con `while`, pide números hasta 0; muestra suma y promedio.\n",
    "\n",
    "### Reto extra\n",
    "**FizzBuzz** de 1 a 100.\n"
   ]
  },
  {
   "cell_type": "code",
   "execution_count": 4,
   "id": "23f06ac5",
   "metadata": {},
   "outputs": [
    {
     "name": "stdout",
     "output_type": "stream",
     "text": [
      "Nota inválida\n"
     ]
    }
   ],
   "source": [
    "nota = int(input(\"Ingrese su nota (0-100): \"))\n",
    "if nota >= 90 and nota <= 100:\n",
    "    print(\"A\")      \n",
    "else: \n",
    " if nota >= 80 and nota <= 89:\n",
    "    print(\"B\")\n",
    " else:       \n",
    "  if nota >= 70 and nota <= 79:\n",
    "    print(\"C\")\n",
    "  else:           \n",
    "   if nota >= 60 and nota <= 69:\n",
    "    print(\"D\")\n",
    "   else:   \n",
    "    if nota >= 0 and nota <= 59:\n",
    "     print(\"F\")\n",
    "    else:\n",
    "     print(\"Nota inválida\")"
   ]
  },
  {
   "cell_type": "code",
   "execution_count": 7,
   "metadata": {},
   "outputs": [
    {
     "name": "stdout",
     "output_type": "stream",
     "text": [
      "tabla de multiplicar del 7\n",
      "7 x 1 = 7\n",
      "7 x 2 = 14\n",
      "7 x 3 = 21\n",
      "7 x 4 = 28\n",
      "7 x 5 = 35\n",
      "7 x 6 = 42\n",
      "7 x 7 = 49\n",
      "7 x 8 = 56\n",
      "7 x 9 = 63\n",
      "7 x 10 = 70\n"
     ]
    }
   ],
   "source": [
    "numero = int(input(\"Escribe un numero entre el 1 y el 10\"))\n",
    "print(f\"tabla de multiplicar del {numero}\")\n",
    "for i in range(1, 11):\n",
    "    resultado = numero * i\n",
    "    print(f\"{numero} x {i} = {numero * i}\")\n",
    "i= i + 1"
   ]
  },
  {
   "cell_type": "code",
   "execution_count": null,
   "id": "37310704",
   "metadata": {},
   "outputs": [
    {
     "name": "stdout",
     "output_type": "stream",
     "text": [
      "El promedio es: 10.0\n",
      "suma= 30\n"
     ]
    }
   ],
   "source": [
    "suma = 0\n",
    "contador = 0\n",
    "numero = int(input(\"Ingresa números (ingresa 0 para terminar):\"))\n",
    "while numero != 0:\n",
    "    suma += numero\n",
    "    contador =contador + 1\n",
    "    numero = int(input(\"Ingresa números (ingresa 0 para terminar):\"))\n",
    "if contador > 0:\n",
    "    promedio = suma / contador\n",
    "    print(\"suma=\",suma)\n",
    "    print(f\"El promedio es: {promedio}\")\n",
    "else:\n",
    "    print(\"No ingresaste número\")"
   ]
  }
 ],
 "metadata": {
  "kernelspec": {
   "display_name": ".venv",
   "language": "python",
   "name": "python3"
  },
  "language_info": {
   "codemirror_mode": {
    "name": "ipython",
    "version": 3
   },
   "file_extension": ".py",
   "mimetype": "text/x-python",
   "name": "python",
   "nbconvert_exporter": "python",
   "pygments_lexer": "ipython3",
   "version": "3.13.7"
  }
 },
 "nbformat": 4,
 "nbformat_minor": 5
}
