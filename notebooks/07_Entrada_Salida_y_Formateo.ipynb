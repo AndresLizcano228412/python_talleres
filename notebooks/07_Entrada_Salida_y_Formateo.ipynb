{
 "cells": [
  {
   "cell_type": "markdown",
   "metadata": {},
   "source": [
    "# 7) Entrada/Salida y formateo\n",
    "\n",
    "## ¿Qué es?\n",
    "La **interacción por consola**: leer con `input()` y mostrar con `print()`.\n",
    "\n",
    "## ¿Para qué se usa?\n",
    "Para **recoger datos del usuario** y **presentar resultados** con buen formato.\n",
    "\n",
    "## Claves de formateo\n",
    "- f-strings: `f\"{valor:.2f}\"`\n",
    "- `sep` y `end` en `print`\n",
    "- Conversión explícita de tipos al leer (`int`, `float`)\n"
   ]
  },
  {
   "cell_type": "code",
   "execution_count": 1,
   "metadata": {},
   "outputs": [
    {
     "name": "stdout",
     "output_type": "stream",
     "text": [
      "Suma: 20.15\n",
      "uno | dos | tres."
     ]
    }
   ],
   "source": [
    "# Suma con formateo\n",
    "a = 12.3456\n",
    "b = 7.8\n",
    "print(f\"Suma: {a + b:.2f}\")\n",
    "print(\"uno\", \"dos\", \"tres\", sep=\" | \", end=\".\")\n"
   ]
  },
  {
   "cell_type": "markdown",
   "metadata": {},
   "source": [
    "### Ejercicios\n",
    "- E1: Pide nombre y año de nacimiento; calcula edad.\n",
    "- E2: Factura: subtotal, IVA (19%), total con 2 decimales.\n",
    "- E3: “Ficha” multi-línea con `\\n` y f-strings.\n",
    "\n",
    "### Reto extra\n",
    "Lee tres notas y muestra promedio, mínima, máxima y si aprueba (>=3.0).\n"
   ]
  },
  {
   "cell_type": "code",
   "execution_count": null,
   "id": "1fbc13db",
   "metadata": {},
   "outputs": [
    {
     "name": "stdout",
     "output_type": "stream",
     "text": [
      "Hola andres, tienes 18 años\n"
     ]
    }
   ],
   "source": [
    "nombre = (input(\"cual es tu nombre:\"))\n",
    "año = int(input(\"Ingrese tu año de nacimiento \"))\n",
    "año_actual = 2025\n",
    "edad = año_actual - año\n",
    "print(f\"Hola {nombre}, tienes {edad} años\")\n",
    "\n"
   ]
  },
  {
   "cell_type": "code",
   "execution_count": 2,
   "id": "84b90c87",
   "metadata": {},
   "outputs": [
    {
     "name": "stdout",
     "output_type": "stream",
     "text": [
      "Subtotal: 2000.00\n",
      "IVA (19%): 380.00\n",
      "Total: 2380.00\n"
     ]
    }
   ],
   "source": [
    "subtotal = float(input(\"Ingrese el subtotal: \"))\n",
    "iva = subtotal * 0.19\n",
    "total = subtotal + iva\n",
    "print(f\"Subtotal: {subtotal:.2f}\")\n",
    "print(f\"IVA (19%): {iva:.2f}\")\n",
    "print(f\"Total: {total:.2f}\")"
   ]
  },
  {
   "cell_type": "code",
   "execution_count": null,
   "id": "8e12f5f5",
   "metadata": {},
   "outputs": [
    {
     "name": "stdout",
     "output_type": "stream",
     "text": [
      "\n",
      "---ficha---\n",
      "Nombre: Andres \n",
      "Edad: 17\n",
      "Ciudad: Bogota\n",
      "--------------\n"
     ]
    }
   ],
   "source": [
    "nombre= (input(\"cual es tu nombre:\"))\n",
    "edad= int(input(\"Ingrese tu edad: \"))\n",
    "ciudad= (input(\"Ingrese tu ciudad: \"))\n",
    "print(f\"\\n--Documento---\\n\"\n",
    "      f\"Nombre: {nombre}\\n\"\n",
    "      f\"Edad: {edad}\\n\"\n",
    "      f\"Ciudad: {ciudad}\\n\"\n",
    "      f\"--------------\")"
   ]
  },
  {
   "cell_type": "code",
   "execution_count": null,
   "id": "d1a0c042",
   "metadata": {},
   "outputs": [],
   "source": []
  }
 ],
 "metadata": {
  "kernelspec": {
   "display_name": "Python 3",
   "language": "python",
   "name": "python3"
  },
  "language_info": {
   "codemirror_mode": {
    "name": "ipython",
    "version": 3
   },
   "file_extension": ".py",
   "mimetype": "text/x-python",
   "name": "python",
   "nbconvert_exporter": "python",
   "pygments_lexer": "ipython3",
   "version": "3.13.7"
  }
 },
 "nbformat": 4,
 "nbformat_minor": 5
}
