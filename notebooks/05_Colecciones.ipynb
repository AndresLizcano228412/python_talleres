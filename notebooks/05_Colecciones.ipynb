{
 "cells": [
  {
   "cell_type": "markdown",
   "metadata": {},
   "source": [
    "# 5) Colecciones: listas, tuplas y diccionarios\n",
    "\n",
    "## ¿Qué son?\n",
    "Estructuras para **agrupar datos**: secuencias (`list`, `tuple`) y mapeos (`dict`).\n",
    "\n",
    "## ¿Para qué se usan?\n",
    "Para **organizar, acceder y transformar** conjuntos de valores.\n",
    "\n",
    "## Puntos clave\n",
    "- `list` (mutable) — métodos como `append`, `pop`, `sort`.\n",
    "- `tuple` (inmutable) — útil para datos que no cambian.\n",
    "- `dict` (clave→valor) — acceso por clave y métodos `.items()`, `.keys()`.\n"
   ]
  },
  {
   "cell_type": "code",
   "execution_count": 6,
   "metadata": {},
   "outputs": [
    {
     "name": "stdout",
     "output_type": "stream",
     "text": [
      "Lista: ['arepa', 'ajiaco', 'bandeja', 'sancocho']\n",
      "Tupla: 10 20\n",
      "nombre -> Ada\n",
      "edad -> 29\n",
      "ciudad -> Bogotá\n"
     ]
    }
   ],
   "source": [
    "comidas = [\"arepa\", \"ajiaco\", \"bandeja\"]\n",
    "comidas.append(\"sancocho\")\n",
    "print(\"Lista:\", comidas)\n",
    "\n",
    "punto = (10, 20)\n",
    "print(\"Tupla:\", punto[0], punto[1])\n",
    "\n",
    "persona = {\"nombre\": \"Ada\", \"edad\": 28, \"ciudad\": \"Bogotá\"}\n",
    "persona[\"edad\"] += 1\n",
    "for k, v in persona.items():\n",
    "    print(k, \"->\", v)\n"
   ]
  },
  {
   "cell_type": "markdown",
   "metadata": {},
   "source": [
    "### Ejercicios\n",
    "- E1: Lista de 5 números, calcula suma y promedio.\n",
    "- E2: Diccionario de 3 contactos (nombre→tel), consulta por nombre.\n",
    "- E3: Convierte lista de pares `(clave, valor)` en `dict` y recórrelo.\n",
    "\n",
    "### Reto extra\n",
    "**Inventario simple**: lista de dicts con `{\"producto\",\"precio\",\"stock\"}`. Muestra:\n",
    "- Total del inventario.\n",
    "- Producto más caro.\n"
   ]
  },
  {
   "cell_type": "code",
   "execution_count": null,
   "id": "f0756422",
   "metadata": {},
   "outputs": [
    {
     "name": "stdout",
     "output_type": "stream",
     "text": [
      "Suma: 15\n",
      "Promedio: 3.0\n"
     ]
    }
   ],
   "source": [
    "numeros = [1, 2, 3, 4, 5]\n",
    "suma = sum(numeros)\n",
    "promedio = suma / len(numeros)\n",
    "print(\"Suma:\", suma)\n",
    "print(\"Promedio:\", promedio)"
   ]
  },
  {
   "cell_type": "code",
   "execution_count": 5,
   "id": "3ae00740",
   "metadata": {},
   "outputs": [
    {
     "name": "stdout",
     "output_type": "stream",
     "text": [
      "Contacto no encontrado\n"
     ]
    }
   ],
   "source": [
    "contactos =[\"andres tel=8465120\",\"carla tel=7868557\",\"juan tel=5481231\"]\n",
    "nombre = input(\"¿Cual es el nombre? \")\n",
    "for contacto in contactos:\n",
    "    if nombre in contacto:\n",
    "        print(\"Contacto encontrado:\", contacto)\n",
    "    else:\n",
    "        print(\"Contacto no encontrado\")    \n",
    "    break    "
   ]
  },
  {
   "cell_type": "code",
   "execution_count": 8,
   "id": "05efa5f8",
   "metadata": {},
   "outputs": [
    {
     "name": "stdout",
     "output_type": "stream",
     "text": [
      "Diccionario: {'nombre': 'andres', 'edad': 30, 'ciudad': 'bogota'}\n",
      "nombre -> andres\n",
      "edad -> 30\n",
      "ciudad -> bogota\n"
     ]
    }
   ],
   "source": [
    "pares = [(\"nombre\",\"andres\"),(\"edad\",30),(\"ciudad\",\"bogota\")]\n",
    "diccionario = dict(pares)\n",
    "print(\"Diccionario:\", diccionario)\n",
    "for clave, valor in diccionario.items():\n",
    "    print(clave, \"->\", valor)"
   ]
  }
 ],
 "metadata": {
  "kernelspec": {
   "display_name": ".venv",
   "language": "python",
   "name": "python3"
  },
  "language_info": {
   "codemirror_mode": {
    "name": "ipython",
    "version": 3
   },
   "file_extension": ".py",
   "mimetype": "text/x-python",
   "name": "python",
   "nbconvert_exporter": "python",
   "pygments_lexer": "ipython3",
   "version": "3.13.7"
  }
 },
 "nbformat": 4,
 "nbformat_minor": 5
}
